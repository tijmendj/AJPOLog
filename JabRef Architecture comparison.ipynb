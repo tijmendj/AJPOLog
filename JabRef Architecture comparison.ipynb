{
 "cells": [
  {
   "cell_type": "markdown",
   "metadata": {},
   "source": [
    "# Architecture conformance checking from logs\n",
    "This notebook is what I used for Section 8.6 of my Master's thesis. It uses CSV files generated and converted by AJPOLog to create a dot file that represents the architecture. It uses an arbitrary mapping encoded in Python dicts to convert log entries into edges in a directed graph. The cells necessary for using this notebook are documented in the Markdown cells above them.\n",
    "\n",
    "Requirements: Python 3.5+, pydot and networkx\n",
    "\n",
    "The cell below is used for initalization and should always be ran."
   ]
  },
  {
   "cell_type": "code",
   "execution_count": 10,
   "metadata": {
    "collapsed": true
   },
   "outputs": [],
   "source": [
    "import csv\n",
    "\n",
    "unmapped = {} # make the scope of unmapped global\n",
    "\n",
    "def architecture_map(structure):\n",
    "    for m in mapping.keys():\n",
    "        if structure.startswith(m):\n",
    "            return mapping.get(m)\n",
    "    # If it matches none of the classes in the mapping:\n",
    "    if structure.startswith('net.sf.jabref'):\n",
    "        return 'Global'\n",
    "    unmapped.add(structure)\n",
    "    return False"
   ]
  },
  {
   "cell_type": "markdown",
   "metadata": {},
   "source": [
    "## Mapping cells\n",
    "The two cells below each represent a mapping. They are dict representations of the mappings used in the thesis. The 3.7 mapping was created by us, and the SAEroCON mapping was converted from Tobias Dietz and Leo Pruijt."
   ]
  },
  {
   "cell_type": "code",
   "execution_count": 6,
   "metadata": {
    "collapsed": true
   },
   "outputs": [],
   "source": [
    "# 3.7 mapping\n",
    "mapping = {\n",
    "    'net.sf.jabref.model': 'Data layer.model',\n",
    "    'net.sf.jabref.preferences': 'Service layer.preferences',\n",
    "    'net.sf.jabref.logic': 'Service layer.logic',\n",
    "    'net.sf.jabref.cli': 'Interaction layer.cli',\n",
    "    'net.sf.jabref.gui': 'Interaction layer.gui',\n",
    "    'osx': 'osx',\n",
    "    'oracle': 'oracle',\n",
    "}"
   ]
  },
  {
   "cell_type": "code",
   "execution_count": 13,
   "metadata": {
    "collapsed": true
   },
   "outputs": [],
   "source": [
    "# SAEroCON mapping\n",
    "mapping = {\n",
    "    'net.sf.jabref.JabRefGUI': 'GUI',\n",
    "    'net.sf.jabref.JabRefMain': 'GUI',\n",
    "    'net.sf.jabref.collab.Change': 'GUI',\n",
    "    'net.sf.jabref.collab.ChangeDisplayDialog': 'GUI',\n",
    "    'net.sf.jabref.collab.ChangeScanner': 'GUI',\n",
    "    'net.sf.jabref.collab.EntryAddChange': 'GUI',\n",
    "    'net.sf.jabref.collab.EntryChange': 'GUI',\n",
    "    'net.sf.jabref.collab.EntryDeleteChange': 'GUI',\n",
    "    'net.sf.jabref.collab.FileUpdatePanel': 'GUI',\n",
    "    'net.sf.jabref.collab.GroupChange': 'GUI',\n",
    "    'net.sf.jabref.collab.InfoPane': 'GUI',\n",
    "    'net.sf.jabref.collab.MetaDataChange': 'GUI',\n",
    "    'net.sf.jabref.collab.PreambleChange': 'GUI',\n",
    "    'net.sf.jabref.collab.StringAddChange': 'GUI',\n",
    "    'net.sf.jabref.collab.StringChange': 'GUI',\n",
    "    'net.sf.jabref.collab.StringNameChange': 'GUI',\n",
    "    'net.sf.jabref.collab.StringRemoveChange': 'GUI',\n",
    "    'net.sf.jabref.gui': 'GUI',\n",
    "    'net.sf.jabref.migrations.FileLinksUpgradeWarning': 'GUI',\n",
    "    'net.sf.jabref.pdfimport.ImportDialog': 'GUI',\n",
    "    'net.sf.jabref.pdfimport.PdfFileFilter': 'GUI',\n",
    "    'net.sf.jabref.pdfimport.PdfImporter': 'GUI',\n",
    "    'net.sf.jabref.JabRefExecutorService': 'Logic',\n",
    "    'net.sf.jabref.collab.FileUpdateListener': 'Logic',\n",
    "    'net.sf.jabref.collab.FileUpdateMonitor': 'Logic',\n",
    "    'net.sf.jabref.logic': 'Logic',\n",
    "    'net.sf.jabref.shared.DBMSProcessor': 'Logic',\n",
    "    'net.sf.jabref.shared.DBMSSynchronizer': 'Logic',\n",
    "    'net.sf.jabref.shared.MySQLProcessor': 'Logic',\n",
    "    'net.sf.jabref.shared.OracleProcessor': 'Logic',\n",
    "    'net.sf.jabref.shared.PostgreSQLProcessor': 'Logic',\n",
    "    'net.sf.jabref.shared.event': 'Logic',\n",
    "    'net.sf.jabref.shared.exception': 'Logic',\n",
    "    'net.sf.jabref.shared.listener': 'Logic',\n",
    "    'net.sf.jabref.JabRefException': 'Model',\n",
    "    'net.sf.jabref.model': 'Model',\n",
    "    'net.sf.jabref.shared.DBMSConnection': 'Model',\n",
    "    'net.sf.jabref.shared.DBMSConnectionProperties': 'Model',\n",
    "    'net.sf.jabref.shared.DBMSType': 'Model',\n",
    "    'net.sf.jabref.shared.security.Password': 'Model',\n",
    "    'net.sf.jabref.Globals': 'Globals',\n",
    "    'net.sf.jabref.cli': 'CommandLineInterface',\n",
    "    'net.sf.jabref.migrations.PreferencesMigrations': 'Pref',\n",
    "    'net.sf.jabref.preferences': 'Pref',\n",
    "    'net.sf.jabref.shared.prefs': 'Pref',\n",
    "    'java.awt': 'Swing/AWT',\n",
    "    'javax.swing': 'Swing/AWT',\n",
    "    'java.sql': 'SQL',\n",
    "    'oracle': 'SQL'\n",
    "}"
   ]
  },
  {
   "cell_type": "markdown",
   "metadata": {},
   "source": [
    "## Graph conversion\n",
    "The cell below converts a hardcoded file into a set of tuples that can be used for a graph. This is how the architecture diagrams were created. Change the filename to use your own file. The file must be a CSV file created by AJPOLog and converted using the conversion script in AJPOLog."
   ]
  },
  {
   "cell_type": "code",
   "execution_count": 14,
   "metadata": {
    "collapsed": true
   },
   "outputs": [],
   "source": [
    "with open('D:/AJPOLog/logs/jabref-scenario-1-converted.csv') as f:\n",
    "    reader = csv.DictReader(f, delimiter=\";\")\n",
    "    unmapped = set()\n",
    "    edges = set()\n",
    "    for row in reader:\n",
    "        caller = architecture_map(row['Caller'])\n",
    "        callee = architecture_map(row['Callee'])\n",
    "        if caller and callee:\n",
    "            edges.add((caller, callee))"
   ]
  },
  {
   "cell_type": "markdown",
   "metadata": {},
   "source": [
    "## Architecture violation detection\n",
    "Creates a file with all log entries that violate the intended architecture but were not picked up by Pruijt and Dietz. It has limited uses, only detecting a specific type of architecture violation we found. This cell only makes sense to use together with the SAEroCON mapping. Again, filenames are hardcoded and need to be adapted before use."
   ]
  },
  {
   "cell_type": "code",
   "execution_count": 15,
   "metadata": {
    "collapsed": true
   },
   "outputs": [],
   "source": [
    "with open('D:/AJPOLog/logs/jabref-scenario-1-converted.csv') as f:\n",
    "    with open('D:/AJPOLog/logs/unexplained-violations.csv', 'w') as o:\n",
    "        reader = csv.DictReader(f, delimiter=\";\")\n",
    "        unmapped = set()\n",
    "        edges = set()\n",
    "        for row in reader:\n",
    "            caller = architecture_map(row['Caller'])\n",
    "            callee = architecture_map(row['Callee'])\n",
    "            if caller == 'Pref' and callee == 'Logic':\n",
    "                o.write(str(row))"
   ]
  },
  {
   "cell_type": "markdown",
   "metadata": {},
   "source": [
    "## Test\n",
    "This cell is used to test the output of the script. It should _not_ be empty when used after running the regular graph creation cell, but should be empty after using the cell above."
   ]
  },
  {
   "cell_type": "code",
   "execution_count": 12,
   "metadata": {},
   "outputs": [
    {
     "data": {
      "text/plain": [
       "{('CommandLineInterface', 'CommandLineInterface'),\n",
       " ('GUI', 'CommandLineInterface'),\n",
       " ('GUI', 'GUI'),\n",
       " ('GUI', 'Logic'),\n",
       " ('GUI', 'Model'),\n",
       " ('GUI', 'Pref'),\n",
       " ('GUI', 'Swing/AWT'),\n",
       " ('Globals', 'Logic'),\n",
       " ('Logic', 'GUI'),\n",
       " ('Logic', 'Logic'),\n",
       " ('Logic', 'Model'),\n",
       " ('Logic', 'Pref'),\n",
       " ('Model', 'Logic'),\n",
       " ('Model', 'Model'),\n",
       " ('Pref', 'GUI'),\n",
       " ('Pref', 'Logic'),\n",
       " ('Pref', 'Model'),\n",
       " ('Pref', 'Pref'),\n",
       " ('Swing/AWT', 'GUI')}"
      ]
     },
     "execution_count": 12,
     "metadata": {},
     "output_type": "execute_result"
    }
   ],
   "source": [
    "edges"
   ]
  },
  {
   "cell_type": "markdown",
   "metadata": {},
   "source": [
    "## Export to dotfile\n",
    "Initially, we used a graphviz within Python, but this was rather cumbersome compared to copying the file into an online graphviz implementation. Editing the dotfile manually gave us greater freedom in how it should be displayed. We converted the output of graphviz to SVG which was then used within the thesis."
   ]
  },
  {
   "cell_type": "code",
   "execution_count": null,
   "metadata": {},
   "outputs": [],
   "source": [
    "import networkx as nx\n",
    "import pydot\n",
    "from networkx.drawing.nx_pydot import write_dot\n",
    "\n",
    "g = nx.DiGraph()\n",
    "g.add_edges_from(edges)\n",
    "\n",
    "write_dot(g, \"grid.dot\")"
   ]
  }
 ],
 "metadata": {
  "kernelspec": {
   "display_name": "Python 3",
   "language": "python",
   "name": "python3"
  },
  "language_info": {
   "codemirror_mode": {
    "name": "ipython",
    "version": 3
   },
   "file_extension": ".py",
   "mimetype": "text/x-python",
   "name": "python",
   "nbconvert_exporter": "python",
   "pygments_lexer": "ipython3",
   "version": "3.6.1"
  }
 },
 "nbformat": 4,
 "nbformat_minor": 2
}
